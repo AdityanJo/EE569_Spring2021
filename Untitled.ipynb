{
 "cells": [
  {
   "cell_type": "code",
   "execution_count": 37,
   "id": "880dc7da",
   "metadata": {},
   "outputs": [],
   "source": [
    "import numpy as np\n",
    "\n",
    "def maxpool2d(img):\n",
    "    print(img.shape)\n",
    "    res = np.zeros((img.shape[0]//2, img.shape[1]//2, img.shape[2]))\n",
    "    print(res.shape)\n",
    "    for i in range(0,img.shape[0],2):\n",
    "        for j in range(0,img.shape[1],2):\n",
    "            for k in range(img.shape[2]):\n",
    "                print(img[i:i+1,j:j+1,k])\n",
    "                res[i//2,j//2,k] = np.max(img[i:i+2,j:j+2,k])\n",
    "#                 print(res)\n",
    "    return res"
   ]
  },
  {
   "cell_type": "code",
   "execution_count": 38,
   "id": "397ad8c8",
   "metadata": {},
   "outputs": [],
   "source": [
    "img =np.array([[1,2,3,4],[5,6,7,8],[9,10,11,12],[13,14,15,16]]).reshape(4,4,1)"
   ]
  },
  {
   "cell_type": "code",
   "execution_count": 39,
   "id": "efe262a6",
   "metadata": {},
   "outputs": [
    {
     "name": "stdout",
     "output_type": "stream",
     "text": [
      "(4, 4, 1)\n",
      "(2, 2, 1)\n",
      "[[1]]\n",
      "[[3]]\n",
      "[[9]]\n",
      "[[11]]\n"
     ]
    },
    {
     "data": {
      "text/plain": [
       "array([[[ 6.],\n",
       "        [ 8.]],\n",
       "\n",
       "       [[14.],\n",
       "        [16.]]])"
      ]
     },
     "execution_count": 39,
     "metadata": {},
     "output_type": "execute_result"
    }
   ],
   "source": [
    "maxpool2d(img)"
   ]
  },
  {
   "cell_type": "code",
   "execution_count": null,
   "id": "08f7df33",
   "metadata": {},
   "outputs": [],
   "source": []
  }
 ],
 "metadata": {
  "kernelspec": {
   "display_name": "Python 3",
   "language": "python",
   "name": "python3"
  },
  "language_info": {
   "codemirror_mode": {
    "name": "ipython",
    "version": 3
   },
   "file_extension": ".py",
   "mimetype": "text/x-python",
   "name": "python",
   "nbconvert_exporter": "python",
   "pygments_lexer": "ipython3",
   "version": "3.7.9"
  }
 },
 "nbformat": 4,
 "nbformat_minor": 5
}
